{
  "nbformat": 4,
  "nbformat_minor": 0,
  "metadata": {
    "colab": {
      "provenance": []
    },
    "kernelspec": {
      "name": "python3",
      "display_name": "Python 3"
    },
    "language_info": {
      "name": "python"
    }
  },
  "cells": [
    {
      "cell_type": "code",
      "execution_count": 4,
      "metadata": {
        "colab": {
          "base_uri": "https://localhost:8080/"
        },
        "id": "AwHIRnB9Nnun",
        "outputId": "ee9e7466-8990-4528-befd-f65bd6cb3bef"
      },
      "outputs": [
        {
          "output_type": "stream",
          "name": "stdout",
          "text": [
            "Fibonacci Numbers:\n",
            "0\n",
            "1\n",
            "1\n",
            "2\n",
            "3\n",
            "5\n",
            "8\n",
            "13\n",
            "21\n",
            "34\n",
            "55\n",
            "89\n",
            "144\n",
            "233\n"
          ]
        }
      ],
      "source": [
        "def fibonacci_generator(n):\n",
        "    a, b = 0, 1  # Initialize the first two Fibonacci numbers\n",
        "    count = 0  # Counter to keep track of the number of Fibonacci numbers generated\n",
        "\n",
        "    while count < n:\n",
        "        yield a  # Yield the current Fibonacci number\n",
        "        a, b = b, a + b  # Update Fibonacci sequence a becomes b, and b becomes the sum of a and b\n",
        "        count += 1  # Increment the counter\n",
        "\n",
        "n = 14  # Number of Fibonacci numbers to generate\n",
        "fibonacci_gen = fibonacci_generator(n)\n",
        "print(\"Fibonacci Numbers:\")\n",
        "for number in fibonacci_gen:\n",
        "    print(number)\n"
      ]
    }
  ]
}